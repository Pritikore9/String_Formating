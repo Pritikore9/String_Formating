{
 "cells": [
  {
   "cell_type": "code",
   "execution_count": 1,
   "id": "b00713b8",
   "metadata": {},
   "outputs": [
    {
     "name": "stdout",
     "output_type": "stream",
     "text": [
      "Hello world\n"
     ]
    }
   ],
   "source": [
    "print('Hello world')"
   ]
  },
  {
   "cell_type": "code",
   "execution_count": 2,
   "id": "802e993e",
   "metadata": {},
   "outputs": [
    {
     "data": {
      "text/plain": [
       "'Hello world'"
      ]
     },
     "execution_count": 2,
     "metadata": {},
     "output_type": "execute_result"
    }
   ],
   "source": [
    "str='Hello world'\n",
    "str"
   ]
  },
  {
   "cell_type": "code",
   "execution_count": 3,
   "id": "92b3824d",
   "metadata": {},
   "outputs": [],
   "source": [
    "def greeting(name):\n",
    "    return 'Hello {}. welcome to function'.format(name)"
   ]
  },
  {
   "cell_type": "code",
   "execution_count": 4,
   "id": "08d963c5",
   "metadata": {},
   "outputs": [
    {
     "data": {
      "text/plain": [
       "'Hello Priti. welcome to function'"
      ]
     },
     "execution_count": 4,
     "metadata": {},
     "output_type": "execute_result"
    }
   ],
   "source": [
    "greeting('Priti')"
   ]
  },
  {
   "cell_type": "code",
   "execution_count": 5,
   "id": "468f2519",
   "metadata": {},
   "outputs": [],
   "source": [
    "def son(first_name,last_name):\n",
    "    return 'Welcome all I am {} and I am from {} family'.format(first_name,last_name)"
   ]
  },
  {
   "cell_type": "code",
   "execution_count": 6,
   "id": "bd7bfb24",
   "metadata": {},
   "outputs": [
    {
     "data": {
      "text/plain": [
       "'Welcome all I am Priti and I am from Kore family'"
      ]
     },
     "execution_count": 6,
     "metadata": {},
     "output_type": "execute_result"
    }
   ],
   "source": [
    "son(\"Priti\",\"Kore\")"
   ]
  },
  {
   "cell_type": "code",
   "execution_count": 17,
   "id": "fb655ce2",
   "metadata": {},
   "outputs": [],
   "source": [
    "def person(name,sirname):             # ordering matter during formatting\n",
    "    return 'my name is {} and sirname is {}'.format(sirname,name)"
   ]
  },
  {
   "cell_type": "code",
   "execution_count": 18,
   "id": "bb9f74d5",
   "metadata": {},
   "outputs": [
    {
     "data": {
      "text/plain": [
       "'my name is kore and sirname is prit'"
      ]
     },
     "execution_count": 18,
     "metadata": {},
     "output_type": "execute_result"
    }
   ],
   "source": [
    "person('prit','kore')"
   ]
  },
  {
   "cell_type": "code",
   "execution_count": 7,
   "id": "411ea3d0",
   "metadata": {},
   "outputs": [],
   "source": [
    "def person(name,sirname): \n",
    "    return 'my name is {name} and sirname is {sirname}'.format(name=name,sirname=sirname)"
   ]
  },
  {
   "cell_type": "code",
   "execution_count": 8,
   "id": "51dbc74e",
   "metadata": {},
   "outputs": [
    {
     "data": {
      "text/plain": [
       "'my name is priti and sirname is kore'"
      ]
     },
     "execution_count": 8,
     "metadata": {},
     "output_type": "execute_result"
    }
   ],
   "source": [
    "person('priti','kore')"
   ]
  },
  {
   "cell_type": "code",
   "execution_count": 11,
   "id": "1590bc0d",
   "metadata": {},
   "outputs": [],
   "source": [
    "def person(name,sirname):              # positinal argument changes the formatting \n",
    "    return 'my name is {name} and sirname is {sirname}'.format(sirname=name,name=sirname)"
   ]
  },
  {
   "cell_type": "code",
   "execution_count": 12,
   "id": "56546af6",
   "metadata": {},
   "outputs": [
    {
     "data": {
      "text/plain": [
       "'my name is kore and sirname is priti'"
      ]
     },
     "execution_count": 12,
     "metadata": {},
     "output_type": "execute_result"
    }
   ],
   "source": [
    "person('priti','kore')"
   ]
  },
  {
   "cell_type": "code",
   "execution_count": 13,
   "id": "9817a182",
   "metadata": {},
   "outputs": [],
   "source": [
    "def person(name,sirname):\n",
    "    return 'my name is {name} and sirname is {sirname}'.format(name=sirname,sirname=name)"
   ]
  },
  {
   "cell_type": "code",
   "execution_count": 14,
   "id": "fc2e5f9d",
   "metadata": {},
   "outputs": [
    {
     "data": {
      "text/plain": [
       "'my name is kore and sirname is priti'"
      ]
     },
     "execution_count": 14,
     "metadata": {},
     "output_type": "execute_result"
    }
   ],
   "source": [
    "person('priti','kore')"
   ]
  },
  {
   "cell_type": "code",
   "execution_count": null,
   "id": "142abfa9",
   "metadata": {},
   "outputs": [],
   "source": []
  }
 ],
 "metadata": {
  "kernelspec": {
   "display_name": "Python 3 (ipykernel)",
   "language": "python",
   "name": "python3"
  },
  "language_info": {
   "codemirror_mode": {
    "name": "ipython",
    "version": 3
   },
   "file_extension": ".py",
   "mimetype": "text/x-python",
   "name": "python",
   "nbconvert_exporter": "python",
   "pygments_lexer": "ipython3",
   "version": "3.9.12"
  }
 },
 "nbformat": 4,
 "nbformat_minor": 5
}
